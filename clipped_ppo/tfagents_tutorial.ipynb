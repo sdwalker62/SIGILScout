{
 "cells": [
  {
   "cell_type": "code",
   "execution_count": 1,
   "metadata": {},
   "outputs": [
    {
     "name": "stderr",
     "output_type": "stream",
     "text": [
      "2022-06-16 13:59:34.889335: W tensorflow/stream_executor/platform/default/dso_loader.cc:64] Could not load dynamic library 'libcudart.so.11.0'; dlerror: libcudart.so.11.0: cannot open shared object file: No such file or directory\n",
      "2022-06-16 13:59:34.889616: I tensorflow/stream_executor/cuda/cudart_stub.cc:29] Ignore above cudart dlerror if you do not have a GPU set up on your machine.\n"
     ]
    }
   ],
   "source": [
    "from __future__ import absolute_import, division, print_function\n",
    "\n",
    "import base64\n",
    "import imageio\n",
    "import IPython\n",
    "import matplotlib\n",
    "import matplotlib.pyplot as plt\n",
    "import numpy as np\n",
    "import PIL.Image\n",
    "import pyvirtualdisplay\n",
    "import reverb\n",
    "\n",
    "import tensorflow as tf\n",
    "\n",
    "from tf_agents.agents.dqn import dqn_agent\n",
    "from tf_agents.drivers import py_driver\n",
    "from tf_agents.environments import suite_gym\n",
    "from tf_agents.environments import tf_py_environment\n",
    "from tf_agents.eval import metric_utils\n",
    "from tf_agents.metrics import tf_metrics\n",
    "from tf_agents.networks import sequential\n",
    "from tf_agents.policies import py_tf_eager_policy\n",
    "from tf_agents.policies import random_tf_policy\n",
    "from tf_agents.replay_buffers import reverb_replay_buffer\n",
    "from tf_agents.replay_buffers import reverb_utils\n",
    "from tf_agents.trajectories import trajectory\n",
    "from tf_agents.specs import tensor_spec\n",
    "from tf_agents.utils import common"
   ]
  },
  {
   "cell_type": "code",
   "execution_count": 3,
   "metadata": {},
   "outputs": [],
   "source": [
    "# Set up a virtual display for rendering OpenAI gym environments.\n",
    "display = pyvirtualdisplay.Display(visible=0, size=(1400, 900)).start()"
   ]
  },
  {
   "cell_type": "code",
   "execution_count": 4,
   "metadata": {},
   "outputs": [
    {
     "data": {
      "text/plain": [
       "'2.9.1'"
      ]
     },
     "execution_count": 4,
     "metadata": {},
     "output_type": "execute_result"
    }
   ],
   "source": [
    "tf.version.VERSION"
   ]
  },
  {
   "cell_type": "code",
   "execution_count": 5,
   "metadata": {},
   "outputs": [],
   "source": [
    "num_iterations = 20000 # @param {type:\"integer\"}\n",
    "\n",
    "initial_collect_steps = 100  # @param {type:\"integer\"}\n",
    "collect_steps_per_iteration =   1# @param {type:\"integer\"}\n",
    "replay_buffer_max_length = 100000  # @param {type:\"integer\"}\n",
    "\n",
    "batch_size = 64  # @param {type:\"integer\"}\n",
    "learning_rate = 1e-3  # @param {type:\"number\"}\n",
    "log_interval = 200  # @param {type:\"integer\"}\n",
    "\n",
    "num_eval_episodes = 10  # @param {type:\"integer\"}\n",
    "eval_interval = 1000  # @param {type:\"integer\"}\n"
   ]
  },
  {
   "cell_type": "code",
   "execution_count": 6,
   "metadata": {},
   "outputs": [],
   "source": [
    "env_name = 'CartPole-v0'\n",
    "env = suite_gym.load(env_name)"
   ]
  },
  {
   "cell_type": "code",
   "execution_count": 7,
   "metadata": {},
   "outputs": [
    {
     "data": {
      "image/png": "[encoded data removed]",
      "text/plain": [
       "<PIL.Image.Image image mode=RGB size=600x400>"
      ]
     },
     "execution_count": 7,
     "metadata": {},
     "output_type": "execute_result"
    }
   ],
   "source": [
    "env.reset()\n",
    "PIL.Image.fromarray(env.render())"
   ]
  },
  {
   "cell_type": "code",
   "execution_count": 8,
   "metadata": {},
   "outputs": [
    {
     "name": "stdout",
     "output_type": "stream",
     "text": [
      "Observation Spec:\n",
      "BoundedArraySpec(shape=(4,), dtype=dtype('float32'), name='observation', minimum=[-4.8000002e+00 -3.4028235e+38 -4.1887903e-01 -3.4028235e+38], maximum=[4.8000002e+00 3.4028235e+38 4.1887903e-01 3.4028235e+38])\n"
     ]
    }
   ],
   "source": [
    "print('Observation Spec:')\n",
    "print(env.time_step_spec().observation)"
   ]
  },
  {
   "cell_type": "code",
   "execution_count": 9,
   "metadata": {},
   "outputs": [
    {
     "name": "stdout",
     "output_type": "stream",
     "text": [
      "Reward Spec:\n",
      "ArraySpec(shape=(), dtype=dtype('float32'), name='reward')\n"
     ]
    }
   ],
   "source": [
    "print('Reward Spec:')\n",
    "print(env.time_step_spec().reward)"
   ]
  },
  {
   "cell_type": "code",
   "execution_count": 10,
   "metadata": {},
   "outputs": [
    {
     "name": "stdout",
     "output_type": "stream",
     "text": [
      "Action Spec:\n",
      "BoundedArraySpec(shape=(), dtype=dtype('int64'), name='action', minimum=0, maximum=1)\n"
     ]
    }
   ],
   "source": [
    "print('Action Spec:')\n",
    "print(env.action_spec())"
   ]
  },
  {
   "cell_type": "code",
   "execution_count": 11,
   "metadata": {},
   "outputs": [
    {
     "name": "stdout",
     "output_type": "stream",
     "text": [
      "Time step:\n",
      "TimeStep(\n",
      "{'discount': array(1., dtype=float32),\n",
      " 'observation': array([ 0.02814893, -0.01502214,  0.01104049,  0.04431662], dtype=float32),\n",
      " 'reward': array(0., dtype=float32),\n",
      " 'step_type': array(0, dtype=int32)})\n",
      "Next time step:\n",
      "TimeStep(\n",
      "{'discount': array(1., dtype=float32),\n",
      " 'observation': array([ 0.02784849,  0.17993978,  0.01192683, -0.24486259], dtype=float32),\n",
      " 'reward': array(1., dtype=float32),\n",
      " 'step_type': array(1, dtype=int32)})\n"
     ]
    }
   ],
   "source": [
    "time_step = env.reset()\n",
    "print('Time step:')\n",
    "print(time_step)\n",
    "\n",
    "action = np.array(1, dtype=np.int32)\n",
    "\n",
    "next_time_step = env.step(action)\n",
    "print('Next time step:')\n",
    "print(next_time_step)"
   ]
  },
  {
   "cell_type": "code",
   "execution_count": 12,
   "metadata": {},
   "outputs": [],
   "source": [
    "train_py_env = suite_gym.load(env_name)\n",
    "eval_py_env = suite_gym.load(env_name)"
   ]
  },
  {
   "cell_type": "code",
   "execution_count": 13,
   "metadata": {},
   "outputs": [],
   "source": [
    "train_env = tf_py_environment.TFPyEnvironment(train_py_env)\n",
    "eval_env = tf_py_environment.TFPyEnvironment(eval_py_env)"
   ]
  },
  {
   "cell_type": "code",
   "execution_count": 14,
   "metadata": {},
   "outputs": [],
   "source": [
    "fc_layer_params = (100, 50)\n",
    "action_tensor_spec = tensor_spec.from_spec(env.action_spec())\n",
    "num_actions = action_tensor_spec.maximum - action_tensor_spec.minimum + 1\n",
    "\n",
    "# Define a helper function to create Dense layers configured with the right\n",
    "# activation and kernel initializer.\n",
    "def dense_layer(num_units):\n",
    "  return tf.keras.layers.Dense(\n",
    "      num_units,\n",
    "      activation=tf.keras.activations.relu,\n",
    "      kernel_initializer=tf.keras.initializers.VarianceScaling(\n",
    "          scale=2.0, mode='fan_in', distribution='truncated_normal'))\n",
    "\n",
    "# QNetwork consists of a sequence of Dense layers followed by a dense layer\n",
    "# with `num_actions` units to generate one q_value per available action as\n",
    "# its output.\n",
    "dense_layers = [dense_layer(num_units) for num_units in fc_layer_params]\n",
    "q_values_layer = tf.keras.layers.Dense(\n",
    "    num_actions,\n",
    "    activation=None,\n",
    "    kernel_initializer=tf.keras.initializers.RandomUniform(\n",
    "        minval=-0.03, maxval=0.03),\n",
    "    bias_initializer=tf.keras.initializers.Constant(-0.2))\n",
    "q_net = sequential.Sequential(dense_layers + [q_values_layer])"
   ]
  },
  {
   "cell_type": "code",
   "execution_count": 15,
   "metadata": {},
   "outputs": [
    {
     "name": "stderr",
     "output_type": "stream",
     "text": [
      "2022-06-16 14:05:18.706692: W tensorflow/stream_executor/platform/default/dso_loader.cc:64] Could not load dynamic library 'libcuda.so.1'; dlerror: libcuda.so.1: cannot open shared object file: No such file or directory; LD_LIBRARY_PATH: /home/dalton/mambaforge/envs/SIGILScout/lib/python3.10/site-packages/cv2/../../lib64:\n",
      "2022-06-16 14:05:18.706800: W tensorflow/stream_executor/cuda/cuda_driver.cc:269] failed call to cuInit: UNKNOWN ERROR (303)\n",
      "2022-06-16 14:05:18.706932: I tensorflow/stream_executor/cuda/cuda_diagnostics.cc:156] kernel driver does not appear to be running on this host (andromeda): /proc/driver/nvidia/version does not exist\n",
      "2022-06-16 14:05:18.707217: I tensorflow/core/platform/cpu_feature_guard.cc:193] This TensorFlow binary is optimized with oneAPI Deep Neural Network Library (oneDNN) to use the following CPU instructions in performance-critical operations:  AVX2 FMA\n",
      "To enable them in other operations, rebuild TensorFlow with the appropriate compiler flags.\n"
     ]
    }
   ],
   "source": [
    "optimizer = tf.keras.optimizers.Adam(learning_rate=learning_rate)\n",
    "\n",
    "train_step_counter = tf.Variable(0)\n",
    "\n",
    "agent = dqn_agent.DqnAgent(\n",
    "    train_env.time_step_spec(),\n",
    "    train_env.action_spec(),\n",
    "    q_network=q_net,\n",
    "    optimizer=optimizer,\n",
    "    td_errors_loss_fn=common.element_wise_squared_loss,\n",
    "    train_step_counter=train_step_counter)\n",
    "\n",
    "agent.initialize()"
   ]
  },
  {
   "cell_type": "code",
   "execution_count": 16,
   "metadata": {},
   "outputs": [],
   "source": [
    "eval_policy = agent.policy\n",
    "collect_policy = agent.collect_policy"
   ]
  },
  {
   "cell_type": "code",
   "execution_count": 17,
   "metadata": {},
   "outputs": [],
   "source": [
    "random_policy = random_tf_policy.RandomTFPolicy(train_env.time_step_spec(),\n",
    "                                                train_env.action_spec())"
   ]
  },
  {
   "cell_type": "code",
   "execution_count": 18,
   "metadata": {},
   "outputs": [],
   "source": [
    "example_environment = tf_py_environment.TFPyEnvironment(\n",
    "    suite_gym.load('CartPole-v0'))"
   ]
  },
  {
   "cell_type": "code",
   "execution_count": 19,
   "metadata": {},
   "outputs": [],
   "source": [
    "time_step = example_environment.reset()"
   ]
  },
  {
   "cell_type": "code",
   "execution_count": 20,
   "metadata": {},
   "outputs": [
    {
     "data": {
      "text/plain": [
       "PolicyStep(action=<tf.Tensor: shape=(1,), dtype=int64, numpy=array([1])>, state=(), info=())"
      ]
     },
     "execution_count": 20,
     "metadata": {},
     "output_type": "execute_result"
    }
   ],
   "source": [
    "random_policy.action(time_step)"
   ]
  },
  {
   "cell_type": "code",
   "execution_count": 21,
   "metadata": {},
   "outputs": [],
   "source": [
    "def compute_avg_return(environment, policy, num_episodes=10):\n",
    "\n",
    "  total_return = 0.0\n",
    "  for _ in range(num_episodes):\n",
    "\n",
    "    time_step = environment.reset()\n",
    "    episode_return = 0.0\n",
    "\n",
    "    while not time_step.is_last():\n",
    "      action_step = policy.action(time_step)\n",
    "      time_step = environment.step(action_step.action)\n",
    "      episode_return += time_step.reward\n",
    "    total_return += episode_return\n",
    "\n",
    "  avg_return = total_return / num_episodes\n",
    "  return avg_return.numpy()[0]\n",
    "\n",
    "\n",
    "# See also the metrics module for standard implementations of different metrics.\n",
    "# https://github.com/tensorflow/agents/tree/master/tf_agents/metrics"
   ]
  },
  {
   "cell_type": "code",
   "execution_count": 22,
   "metadata": {},
   "outputs": [
    {
     "data": {
      "text/plain": [
       "22.3"
      ]
     },
     "execution_count": 22,
     "metadata": {},
     "output_type": "execute_result"
    }
   ],
   "source": [
    "compute_avg_return(eval_env, random_policy, num_eval_episodes)"
   ]
  },
  {
   "cell_type": "code",
   "execution_count": 23,
   "metadata": {},
   "outputs": [
    {
     "name": "stderr",
     "output_type": "stream",
     "text": [
      "[reverb/cc/platform/tfrecord_checkpointer.cc:162]  Initializing TFRecordCheckpointer in /tmp/tmpn52dxfrw.\n",
      "[reverb/cc/platform/tfrecord_checkpointer.cc:552] Loading latest checkpoint from /tmp/tmpn52dxfrw\n",
      "[reverb/cc/platform/default/server.cc:71] Started replay server on port 44939\n"
     ]
    }
   ],
   "source": [
    "table_name = 'uniform_table'\n",
    "replay_buffer_signature = tensor_spec.from_spec(\n",
    "      agent.collect_data_spec)\n",
    "replay_buffer_signature = tensor_spec.add_outer_dim(\n",
    "    replay_buffer_signature)\n",
    "\n",
    "table = reverb.Table(\n",
    "    table_name,\n",
    "    max_size=replay_buffer_max_length,\n",
    "    sampler=reverb.selectors.Uniform(),\n",
    "    remover=reverb.selectors.Fifo(),\n",
    "    rate_limiter=reverb.rate_limiters.MinSize(1),\n",
    "    signature=replay_buffer_signature)\n",
    "\n",
    "reverb_server = reverb.Server([table])\n",
    "\n",
    "replay_buffer = reverb_replay_buffer.ReverbReplayBuffer(\n",
    "    agent.collect_data_spec,\n",
    "    table_name=table_name,\n",
    "    sequence_length=2,\n",
    "    local_server=reverb_server)\n",
    "\n",
    "rb_observer = reverb_utils.ReverbAddTrajectoryObserver(\n",
    "  replay_buffer.py_client,\n",
    "  table_name,\n",
    "  sequence_length=2)"
   ]
  },
  {
   "cell_type": "code",
   "execution_count": 24,
   "metadata": {},
   "outputs": [
    {
     "data": {
      "text/plain": [
       "Trajectory(\n",
       "{'action': BoundedTensorSpec(shape=(), dtype=tf.int64, name='action', minimum=array(0), maximum=array(1)),\n",
       " 'discount': BoundedTensorSpec(shape=(), dtype=tf.float32, name='discount', minimum=array(0., dtype=float32), maximum=array(1., dtype=float32)),\n",
       " 'next_step_type': TensorSpec(shape=(), dtype=tf.int32, name='step_type'),\n",
       " 'observation': BoundedTensorSpec(shape=(4,), dtype=tf.float32, name='observation', minimum=array([-4.8000002e+00, -3.4028235e+38, -4.1887903e-01, -3.4028235e+38],\n",
       "      dtype=float32), maximum=array([4.8000002e+00, 3.4028235e+38, 4.1887903e-01, 3.4028235e+38],\n",
       "      dtype=float32)),\n",
       " 'policy_info': (),\n",
       " 'reward': TensorSpec(shape=(), dtype=tf.float32, name='reward'),\n",
       " 'step_type': TensorSpec(shape=(), dtype=tf.int32, name='step_type')})"
      ]
     },
     "execution_count": 24,
     "metadata": {},
     "output_type": "execute_result"
    }
   ],
   "source": [
    "agent.collect_data_spec"
   ]
  },
  {
   "cell_type": "code",
   "execution_count": 25,
   "metadata": {},
   "outputs": [
    {
     "data": {
      "text/plain": [
       "('step_type',\n",
       " 'observation',\n",
       " 'action',\n",
       " 'policy_info',\n",
       " 'next_step_type',\n",
       " 'reward',\n",
       " 'discount')"
      ]
     },
     "execution_count": 25,
     "metadata": {},
     "output_type": "execute_result"
    }
   ],
   "source": [
    "agent.collect_data_spec._fields"
   ]
  },
  {
   "cell_type": "code",
   "execution_count": 26,
   "metadata": {},
   "outputs": [
    {
     "data": {
      "text/plain": [
       "(TimeStep(\n",
       " {'discount': array(1., dtype=float32),\n",
       "  'observation': array([ 0.09564326, -0.21625902, -0.17165728, -0.09169756], dtype=float32),\n",
       "  'reward': array(1., dtype=float32),\n",
       "  'step_type': array(1, dtype=int32)}),\n",
       " ())"
      ]
     },
     "execution_count": 26,
     "metadata": {},
     "output_type": "execute_result"
    }
   ],
   "source": [
    "py_driver.PyDriver(\n",
    "    env,\n",
    "    py_tf_eager_policy.PyTFEagerPolicy(\n",
    "      random_policy, use_tf_function=True),\n",
    "    [rb_observer],\n",
    "    max_steps=initial_collect_steps).run(train_py_env.reset())"
   ]
  },
  {
   "cell_type": "code",
   "execution_count": 27,
   "metadata": {},
   "outputs": [
    {
     "data": {
      "text/plain": [
       "<PrefetchDataset element_spec=(Trajectory(\n",
       "{'action': TensorSpec(shape=(64, 2), dtype=tf.int64, name=None),\n",
       " 'discount': TensorSpec(shape=(64, 2), dtype=tf.float32, name=None),\n",
       " 'next_step_type': TensorSpec(shape=(64, 2), dtype=tf.int32, name=None),\n",
       " 'observation': TensorSpec(shape=(64, 2, 4), dtype=tf.float32, name=None),\n",
       " 'policy_info': (),\n",
       " 'reward': TensorSpec(shape=(64, 2), dtype=tf.float32, name=None),\n",
       " 'step_type': TensorSpec(shape=(64, 2), dtype=tf.int32, name=None)}), SampleInfo(key=TensorSpec(shape=(64, 2), dtype=tf.uint64, name=None), probability=TensorSpec(shape=(64, 2), dtype=tf.float64, name=None), table_size=TensorSpec(shape=(64, 2), dtype=tf.int64, name=None), priority=TensorSpec(shape=(64, 2), dtype=tf.float64, name=None), times_sampled=TensorSpec(shape=(64, 2), dtype=tf.int32, name=None)))>"
      ]
     },
     "execution_count": 27,
     "metadata": {},
     "output_type": "execute_result"
    }
   ],
   "source": [
    "# Dataset generates trajectories with shape [Bx2x...]\n",
    "dataset = replay_buffer.as_dataset(\n",
    "    num_parallel_calls=3,\n",
    "    sample_batch_size=batch_size,\n",
    "    num_steps=2).prefetch(3)\n",
    "\n",
    "dataset"
   ]
  },
  {
   "cell_type": "code",
   "execution_count": 28,
   "metadata": {},
   "outputs": [
    {
     "name": "stdout",
     "output_type": "stream",
     "text": [
      "<tensorflow.python.data.ops.iterator_ops.OwnedIterator object at 0x7f493879a1d0>\n"
     ]
    }
   ],
   "source": [
    "iterator = iter(dataset)\n",
    "print(iterator)"
   ]
  },
  {
   "cell_type": "code",
   "execution_count": 29,
   "metadata": {},
   "outputs": [
    {
     "name": "stderr",
     "output_type": "stream",
     "text": [
      "[reverb/cc/client.cc:165] Sampler and server are owned by the same process (17169) so Table uniform_table is accessed directly without gRPC.\n",
      "[reverb/cc/client.cc:165] Sampler and server are owned by the same process (17169) so Table uniform_table is accessed directly without gRPC.\n",
      "[reverb/cc/client.cc:165] Sampler and server are owned by the same process (17169) so Table uniform_table is accessed directly without gRPC.\n",
      "[reverb/cc/client.cc:165] Sampler and server are owned by the same process (17169) so Table uniform_table is accessed directly without gRPC.\n",
      "[reverb/cc/client.cc:165] Sampler and server are owned by the same process (17169) so Table uniform_table is accessed directly without gRPC.\n",
      "[reverb/cc/client.cc:165] Sampler and server are owned by the same process (17169) so Table uniform_table is accessed directly without gRPC.\n"
     ]
    },
    {
     "name": "stdout",
     "output_type": "stream",
     "text": [
      "WARNING:tensorflow:From /home/dalton/mambaforge/envs/SIGILScout/lib/python3.10/site-packages/tensorflow/python/util/dispatch.py:1082: calling foldr_v2 (from tensorflow.python.ops.functional_ops) with back_prop=False is deprecated and will be removed in a future version.\n",
      "Instructions for updating:\n",
      "back_prop=False is deprecated. Consider using tf.stop_gradient instead.\n",
      "Instead of:\n",
      "results = tf.foldr(fn, elems, back_prop=False)\n",
      "Use:\n",
      "results = tf.nest.map_structure(tf.stop_gradient, tf.foldr(fn, elems))\n",
      "step = 200: loss = 16.043100357055664\n",
      "step = 400: loss = 5.672598838806152\n",
      "step = 600: loss = 6.529454231262207\n",
      "step = 800: loss = 127.763916015625\n",
      "step = 1000: loss = 1016.5506591796875\n",
      "step = 1000: Average Return = 37.599998474121094\n",
      "step = 1200: loss = 3107.18310546875\n",
      "step = 1400: loss = 47.302520751953125\n",
      "step = 1600: loss = 117.42373657226562\n",
      "step = 1800: loss = 126.94679260253906\n",
      "step = 2000: loss = 32.291709899902344\n",
      "step = 2000: Average Return = 98.5\n",
      "step = 2200: loss = 23.260234832763672\n",
      "step = 2400: loss = 40.475189208984375\n",
      "step = 2600: loss = 34.77783966064453\n",
      "step = 2800: loss = 35.888999938964844\n",
      "step = 3000: loss = 539.836669921875\n",
      "step = 3000: Average Return = 200.0\n",
      "step = 3200: loss = 1393.130859375\n",
      "step = 3400: loss = 768.6018676757812\n",
      "step = 3600: loss = 66.00971221923828\n",
      "step = 3800: loss = 319.413818359375\n",
      "step = 4000: loss = 117.62754821777344\n",
      "step = 4000: Average Return = 200.0\n",
      "step = 4200: loss = 126.91940307617188\n",
      "step = 4400: loss = 433.00897216796875\n",
      "step = 4600: loss = 164.83248901367188\n",
      "step = 4800: loss = 312.5548095703125\n",
      "step = 5000: loss = 138.52627563476562\n",
      "step = 5000: Average Return = 186.8000030517578\n",
      "step = 5200: loss = 172.36532592773438\n",
      "step = 5400: loss = 175.36557006835938\n",
      "step = 5600: loss = 250.85171508789062\n",
      "step = 5800: loss = 528.328857421875\n",
      "step = 6000: loss = 241.68080139160156\n",
      "step = 6000: Average Return = 177.10000610351562\n",
      "step = 6200: loss = 328.6053771972656\n",
      "step = 6400: loss = 350.7640380859375\n",
      "step = 6600: loss = 271.98992919921875\n",
      "step = 6800: loss = 219.21058654785156\n",
      "step = 7000: loss = 225.3006134033203\n",
      "step = 7000: Average Return = 183.3000030517578\n",
      "step = 7200: loss = 235.14035034179688\n",
      "step = 7400: loss = 181.84701538085938\n",
      "step = 7600: loss = 191.39898681640625\n",
      "step = 7800: loss = 224.752197265625\n",
      "step = 8000: loss = 396.69775390625\n",
      "step = 8000: Average Return = 200.0\n",
      "step = 8200: loss = 194439.53125\n",
      "step = 8400: loss = 2280143.5\n",
      "step = 8600: loss = 863918.625\n",
      "step = 8800: loss = 1640915.25\n",
      "step = 9000: loss = 20888592.0\n",
      "step = 9000: Average Return = 13.699999809265137\n",
      "step = 9200: loss = 3236116.0\n",
      "step = 9400: loss = 4121433.75\n",
      "step = 9600: loss = 3358303.5\n",
      "step = 9800: loss = 13781460.0\n",
      "step = 10000: loss = 1377865.0\n",
      "step = 10000: Average Return = 110.19999694824219\n",
      "step = 10200: loss = 3933322.5\n",
      "step = 10400: loss = 1029530.625\n",
      "step = 10600: loss = 660824.0\n",
      "step = 10800: loss = 489035.65625\n",
      "step = 11000: loss = 907152.3125\n",
      "step = 11000: Average Return = 195.6999969482422\n",
      "step = 11200: loss = 10622042.0\n",
      "step = 11400: loss = 475632.75\n",
      "step = 11600: loss = 538698.25\n",
      "step = 11800: loss = 557102.875\n",
      "step = 12000: loss = 263008.0\n",
      "step = 12000: Average Return = 154.1999969482422\n",
      "step = 12200: loss = 1092297.5\n",
      "step = 12400: loss = 1149462.5\n",
      "step = 12600: loss = 3700903.5\n",
      "step = 12800: loss = 291327.96875\n",
      "step = 13000: loss = 208975.328125\n",
      "step = 13000: Average Return = 200.0\n",
      "step = 13200: loss = 455102.5625\n",
      "step = 13400: loss = 157461.6875\n",
      "step = 13600: loss = 169499.984375\n",
      "step = 13800: loss = 258339.34375\n",
      "step = 14000: loss = 159020.40625\n",
      "step = 14000: Average Return = 200.0\n",
      "step = 14200: loss = 280138.21875\n",
      "step = 14400: loss = 204631.34375\n",
      "step = 14600: loss = 183056.703125\n",
      "step = 14800: loss = 2127916.25\n",
      "step = 15000: loss = 86145.0078125\n",
      "step = 15000: Average Return = 200.0\n",
      "step = 15200: loss = 210332.59375\n",
      "step = 15400: loss = 191577.609375\n",
      "step = 15600: loss = 153745.171875\n",
      "step = 15800: loss = 128962.09375\n",
      "step = 16000: loss = 5221799.5\n",
      "step = 16000: Average Return = 200.0\n",
      "step = 16200: loss = 125936.359375\n",
      "step = 16400: loss = 142005.03125\n",
      "step = 16600: loss = 43883.015625\n",
      "step = 16800: loss = 88192.21875\n",
      "step = 17000: loss = 5619363.5\n",
      "step = 17000: Average Return = 200.0\n",
      "step = 17200: loss = 2756434.0\n",
      "step = 17400: loss = 99161.40625\n",
      "step = 17600: loss = 165230.75\n",
      "step = 17800: loss = 621730.4375\n",
      "step = 18000: loss = 44031.90234375\n",
      "step = 18000: Average Return = 200.0\n",
      "step = 18200: loss = 1841225.25\n",
      "step = 18400: loss = 64474.71875\n",
      "step = 18600: loss = 35938.9453125\n",
      "step = 18800: loss = 53961.3046875\n",
      "step = 19000: loss = 246115.875\n",
      "step = 19000: Average Return = 200.0\n",
      "step = 19200: loss = 44903.1953125\n",
      "step = 19400: loss = 103260.796875\n",
      "step = 19600: loss = 2648047.75\n",
      "step = 19800: loss = 579290.4375\n",
      "step = 20000: loss = 36669.2734375\n",
      "step = 20000: Average Return = 198.89999389648438\n"
     ]
    }
   ],
   "source": [
    "try:\n",
    "  %%time\n",
    "except:\n",
    "  pass\n",
    "\n",
    "# (Optional) Optimize by wrapping some of the code in a graph using TF function.\n",
    "agent.train = common.function(agent.train)\n",
    "\n",
    "# Reset the train step.\n",
    "agent.train_step_counter.assign(0)\n",
    "\n",
    "# Evaluate the agent's policy once before training.\n",
    "avg_return = compute_avg_return(eval_env, agent.policy, num_eval_episodes)\n",
    "returns = [avg_return]\n",
    "\n",
    "# Reset the environment.\n",
    "time_step = train_py_env.reset()\n",
    "\n",
    "# Create a driver to collect experience.\n",
    "collect_driver = py_driver.PyDriver(\n",
    "    env,\n",
    "    py_tf_eager_policy.PyTFEagerPolicy(\n",
    "      agent.collect_policy, use_tf_function=True),\n",
    "    [rb_observer],\n",
    "    max_steps=collect_steps_per_iteration)\n",
    "\n",
    "for _ in range(num_iterations):\n",
    "\n",
    "  # Collect a few steps and save to the replay buffer.\n",
    "  time_step, _ = collect_driver.run(time_step)\n",
    "\n",
    "  # Sample a batch of data from the buffer and update the agent's network.\n",
    "  experience, unused_info = next(iterator)\n",
    "  train_loss = agent.train(experience).loss\n",
    "\n",
    "  step = agent.train_step_counter.numpy()\n",
    "\n",
    "  if step % log_interval == 0:\n",
    "    print('step = {0}: loss = {1}'.format(step, train_loss))\n",
    "\n",
    "  if step % eval_interval == 0:\n",
    "    avg_return = compute_avg_return(eval_env, agent.policy, num_eval_episodes)\n",
    "    print('step = {0}: Average Return = {1}'.format(step, avg_return))\n",
    "    returns.append(avg_return)\n"
   ]
  },
  {
   "cell_type": "code",
   "execution_count": 30,
   "metadata": {},
   "outputs": [],
   "source": [
    "def embed_mp4(filename):\n",
    "  \"\"\"Embeds an mp4 file in the notebook.\"\"\"\n",
    "  video = open(filename,'rb').read()\n",
    "  b64 = base64.b64encode(video)\n",
    "  tag = '''\n",
    "  <video width=\"640\" height=\"480\" controls>\n",
    "    <source src=\"data:video/mp4;base64,{0}\" type=\"video/mp4\">\n",
    "  Your browser does not support the video tag.\n",
    "  </video>'''.format(b64.decode())\n",
    "\n",
    "  return IPython.display.HTML(tag)"
   ]
  },
  {
   "cell_type": "code",
   "execution_count": 32,
   "metadata": {},
   "outputs": [
    {
     "name": "stderr",
     "output_type": "stream",
     "text": [
      "WARNING:root:IMAGEIO FFMPEG_WRITER WARNING: input image is not divisible by macro_block_size=16, resizing from (400, 600) to (400, 608) to ensure video compatibility with most codecs and players. To prevent resizing, make your input image divisible by the macro_block_size or set the macro_block_size to None (risking incompatibility). You may also see a FFMPEG warning concerning speedloss due to data not being aligned.\n",
      "[swscaler @ 0x5570dafd6ec0] Warning: data is not aligned! This can lead to a speed loss\n"
     ]
    },
    {
     "data": {
      "text/html": [
       "\n",
       "  <video width=\"640\" height=\"480\" controls>\n",
       "    <source src=\"data:video/mp4;base64,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\" type=\"video/mp4\">\n",
       "  Your browser does not support the video tag.\n",
       "  </video>"
      ],
      "text/plain": [
       "<IPython.core.display.HTML object>"
      ]
     },
     "execution_count": 32,
     "metadata": {},
     "output_type": "execute_result"
    }
   ],
   "source": [
    "def create_policy_eval_video(policy, filename, num_episodes=5, fps=30):\n",
    "  filename = filename + \".mp4\"\n",
    "  with imageio.get_writer(filename, fps=fps) as video:\n",
    "    for _ in range(num_episodes):\n",
    "      time_step = eval_env.reset()\n",
    "      video.append_data(eval_py_env.render())\n",
    "      while not time_step.is_last():\n",
    "        action_step = policy.action(time_step)\n",
    "        time_step = eval_env.step(action_step.action)\n",
    "        video.append_data(eval_py_env.render())\n",
    "  return embed_mp4(filename)\n",
    "\n",
    "create_policy_eval_video(agent.policy, \"trained-agent\")"
   ]
  }
 ],
 "metadata": {
  "kernelspec": {
   "display_name": "Python 3.10.5 ('SIGILScout')",
   "language": "python",
   "name": "python3"
  },
  "language_info": {
   "codemirror_mode": {
    "name": "ipython",
    "version": 3
   },
   "file_extension": ".py",
   "mimetype": "text/x-python",
   "name": "python",
   "nbconvert_exporter": "python",
   "pygments_lexer": "ipython3",
   "version": "3.10.5"
  },
  "orig_nbformat": 4,
  "vscode": {
   "interpreter": {
    "hash": "2dbd6b7437f70ffb7f7832bd3bf78b3f60fe6aae8e25dc7d225ef44607e82f6b"
   }
  }
 },
 "nbformat": 4,
 "nbformat_minor": 2
}
