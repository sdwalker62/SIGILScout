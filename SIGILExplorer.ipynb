{
 "cells": [
  {
   "cell_type": "code",
   "execution_count": null,
   "metadata": {
    "colab": {
     "base_uri": "https://localhost:8080/"
    },
    "id": "cSBgVFpGgn_M",
    "outputId": "1be08a85-8ddb-4297-acec-ec22efd3fb4e"
   },
   "outputs": [],
   "source": [
    "!git clone https://github.com/ultralytics/yolov5.git"
   ]
  },
  {
   "cell_type": "code",
   "execution_count": null,
   "metadata": {
    "colab": {
     "base_uri": "https://localhost:8080/",
     "height": 1000
    },
    "id": "Wqmb91O7QEt4",
    "outputId": "250e4210-f58f-480c-a46c-4e3d5ef06f78"
   },
   "outputs": [],
   "source": [
    "!pip install roboflow"
   ]
  },
  {
   "cell_type": "markdown",
   "metadata": {},
   "source": [
    "### Staplers-1"
   ]
  },
  {
   "cell_type": "code",
   "execution_count": null,
   "metadata": {
    "colab": {
     "base_uri": "https://localhost:8080/"
    },
    "id": "Cc4VJSogQSIC",
    "outputId": "52f0613c-70f8-4ae9-8093-8a26130a4be7"
   },
   "outputs": [],
   "source": [
    "from roboflow import Roboflow\n",
    "rf = Roboflow(api_key=\"fUolKgQZDYF0sTyBqu6O\")\n",
    "project = rf.workspace(\"sigilscout\").project(\"staplers-8z4yd\")\n",
    "dataset = project.version(1).download(\"yolov5\")"
   ]
  },
  {
   "cell_type": "markdown",
   "metadata": {},
   "source": [
    "### Staplers-2"
   ]
  },
  {
   "cell_type": "code",
   "execution_count": null,
   "metadata": {},
   "outputs": [],
   "source": [
    "rf = Roboflow(api_key=\"OuZnjf1SBvoMXdTZqpKe\")\n",
    "project = rf.workspace(\"sigilscout\").project(\"staplers-8z4yd\")\n",
    "dataset = project.version(2).download(\"yolov5\")"
   ]
  },
  {
   "cell_type": "markdown",
   "metadata": {},
   "source": [
    "### Staplers-3"
   ]
  },
  {
   "cell_type": "code",
   "execution_count": null,
   "metadata": {},
   "outputs": [],
   "source": [
    "rf = Roboflow(api_key=\"fUolKgQZDYF0sTyBqu6O\")\n",
    "project = rf.workspace(\"sigilscout\").project(\"staplers-8z4yd\")\n",
    "dataset = project.version(3).download(\"yolov5\")"
   ]
  },
  {
   "cell_type": "code",
   "execution_count": null,
   "metadata": {
    "colab": {
     "base_uri": "https://localhost:8080/"
    },
    "id": "H51QjaRdRcqp",
    "outputId": "49056ea8-f8b4-4bd1-b8c0-e374d297b421"
   },
   "outputs": [],
   "source": [
    "%%writefile yolov5/staplers2.yaml\n",
    "\n",
    "# Train/val/test sets as 1) dir: path/to/imgs, 2) file: path/to/imgs.txt, or 3) list: [path/to/imgs1, path/to/imgs2, ..]\n",
    "path: .  # dataset root dir\n",
    "train: Staplers-3/train  # train images (relative to 'path') 128 images\n",
    "val: Staplers-3/valid  # val images (relative to 'path') 128 images\n",
    "test: Staplers-3/test # test images (optional)\n",
    "\n",
    "# Classes\n",
    "nc: 2  # number of classes\n",
    "names: [\"]  # class names"
   ]
  },
  {
   "cell_type": "code",
   "execution_count": null,
   "metadata": {
    "colab": {
     "base_uri": "https://localhost:8080/"
    },
    "id": "Eb7_X4F5hc5K",
    "outputId": "179e3fe2-ba0d-4436-ef1e-169f1e85992f"
   },
   "outputs": [],
   "source": [
    "!python /content/yolov5/train.py --img 640 --batch 16 --epochs 1000 --data /content/yolov5/staplers.yaml --weights yolov5n.pt"
   ]
  },
  {
   "cell_type": "code",
   "execution_count": null,
   "metadata": {
    "id": "n9oP1yNchL2x"
   },
   "outputs": [],
   "source": [
    "%%writefile ~/SIGILScout/stapler_train.sh\n",
    "python3 \\\n",
    "-m torch.distributed.launch \\\n",
    "--nproc_per_node 4 \\\n",
    "yolov5/train.py \\\n",
    "--data yolov5/Staplers-3/data.yaml \\\n",
    "--weights yolov5n.pt \\\n",
    "--hyp yolov5/hyp_evolve.yaml \\\n",
    "--cfg yolov5/models/yolov5n.yaml \\\n",
    "--batch-size 32 \\\n",
    "--epochs 3000 \\\n",
    "--entity peerteam \\\n",
    "--project results/DOTA \\\n",
    "--device 0,1,2,3"
   ]
  },
  {
   "cell_type": "code",
   "execution_count": null,
   "metadata": {},
   "outputs": [],
   "source": [
    "!source stapler_train.sh"
   ]
  },
  {
   "cell_type": "code",
   "execution_count": null,
   "metadata": {},
   "outputs": [],
   "source": []
  }
 ],
 "metadata": {
  "accelerator": "GPU",
  "colab": {
   "collapsed_sections": [],
   "name": "SIGILExplorer.ipynb",
   "provenance": []
  },
  "gpuClass": "standard",
  "kernelspec": {
   "display_name": "Python 3 (ipykernel)",
   "language": "python",
   "name": "python3"
  },
  "language_info": {
   "codemirror_mode": {
    "name": "ipython",
    "version": 3
   },
   "file_extension": ".py",
   "mimetype": "text/x-python",
   "name": "python",
   "nbconvert_exporter": "python",
   "pygments_lexer": "ipython3",
   "version": "3.8.10"
  }
 },
 "nbformat": 4,
 "nbformat_minor": 4
}
